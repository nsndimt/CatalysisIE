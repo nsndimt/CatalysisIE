{
 "cells": [
  {
   "cell_type": "markdown",
   "id": "bec91175",
   "metadata": {},
   "source": [
    "### clean and tokenize your text"
   ]
  },
  {
   "cell_type": "code",
   "execution_count": 1,
   "id": "64f284fa",
   "metadata": {
    "ExecuteTime": {
     "end_time": "2022-03-25T20:49:30.909255Z",
     "start_time": "2022-03-25T20:49:26.633739Z"
    }
   },
   "outputs": [
    {
     "name": "stderr",
     "output_type": "stream",
     "text": [
      "2022-03-25 16:49:30 INFO: Loading these models for language: en (English):\n",
      "=======================\n",
      "| Processor | Package |\n",
      "-----------------------\n",
      "| tokenize  | craft   |\n",
      "=======================\n",
      "\n",
      "2022-03-25 16:49:30 INFO: Use device: cpu\n",
      "2022-03-25 16:49:30 INFO: Loading: tokenize\n",
      "2022-03-25 16:49:30 INFO: Done loading processors!\n"
     ]
    }
   ],
   "source": [
    "import stanza\n",
    "import json\n",
    "import logging\n",
    "import pandas as pd\n",
    "import pytorch_lightning as pl\n",
    "from copy import deepcopy\n",
    "from model import *\n",
    "from utils import *\n",
    "\n",
    "\n",
    "test_txt = '''\n",
    "In order to reveal the influences of metal-incorporation and regeneration of ZSM-5 zeolites on naphtha catalytic cracking, the fresh and regenerated Sr, Zr and La-loaded ZSM-5 zeolites have been prepared and evaluated using n-pentane catalytic cracking as a model reaction.\n",
    "It was found that the metal-incorporated ZSM-5 zeolites promoted hydride transfer reactions, and the Zr-incorporation helped to promote and maintain the catalytic activity while reduced alkenes selectivity;\n",
    "the regenerated ZSM-5 zeolites promoted C–H bond breaking that increased alkenes selectivity and n-pentane conversion but accelerated catalyst deactivation.\n",
    "The regenerated metal-incorporated ZSM-5 zeolites combined the feature roles of metal-incorporation and regeneration in modulating reaction pathways, and seemed a promising way to balance the activity, stability and alkenes selectivity, facilitating the optimal production for light olefins.\n",
    "Within the research scope, the regenerated Zr-loaded ZSM-5 zeolites reached an optimal production (0.97 g) for light olefins in n-pentane catalytic cracking at 550 °C with a weight hourly space velocity of 3.7 h−1 in 3 h, which was 24% higher than that of the parent HZSM-5 (0.78 g).\n",
    "'''\n",
    "#load stanza tokenizer\n",
    "nlp = stanza.Pipeline('en', package='craft', processors='tokenize', use_gpu=False)\n",
    "\n",
    "test_sents = []\n",
    "idx = 0\n",
    "test_txt = cleanup_text(test_txt)\n",
    "for sent in nlp(test_txt).sentences:\n",
    "    sent_token = []\n",
    "    for token in sent.tokens:\n",
    "        # it is fine to label all token as O because it is not training\n",
    "        sent_token.append({\n",
    "            'text':token.text,\n",
    "            'label':'O',\n",
    "            \"id\":  idx,\n",
    "            \"start\": token.start_char,\n",
    "            \"end\": token.end_char,\n",
    "        })\n",
    "        idx += 1\n",
    "    test_sents.append((sent.text, sent_token))\n",
    "test_sents = stanza_fix(test_sents)\n"
   ]
  },
  {
   "cell_type": "markdown",
   "id": "7ba77595",
   "metadata": {},
   "source": [
    "### predict using model checkpoint"
   ]
  },
  {
   "cell_type": "code",
   "execution_count": 2,
   "id": "b8a296fa",
   "metadata": {
    "ExecuteTime": {
     "end_time": "2022-03-25T20:49:37.467924Z",
     "start_time": "2022-03-25T20:49:30.911730Z"
    }
   },
   "outputs": [
    {
     "name": "stderr",
     "output_type": "stream",
     "text": [
      "Global seed set to 12345\n",
      "Some weights of the model checkpoint at pretrained/scibert_domain_adaption were not used when initializing BertModel: ['cls.predictions.transform.dense.weight', 'cls.predictions.transform.LayerNorm.weight', 'cls.predictions.decoder.weight', 'cls.predictions.transform.LayerNorm.bias', 'cls.predictions.bias', 'cls.predictions.transform.dense.bias', 'cls.predictions.decoder.bias']\n",
      "- This IS expected if you are initializing BertModel from the checkpoint of a model trained on another task or with another architecture (e.g. initializing a BertForSequenceClassification model from a BertForPreTraining model).\n",
      "- This IS NOT expected if you are initializing BertModel from the checkpoint of a model that you expect to be exactly identical (initializing a BertForSequenceClassification model from a BertForSequenceClassification model).\n",
      "Some weights of BertModel were not initialized from the model checkpoint at pretrained/scibert_domain_adaption and are newly initialized: ['bert.pooler.dense.bias', 'bert.pooler.dense.weight']\n",
      "You should probably TRAIN this model on a down-stream task to be able to use it for predictions and inference.\n",
      "Global seed set to 12345\n",
      "Global seed set to 12345\n",
      "100%|██████████| 1/1 [00:00<00:00,  4.68it/s]"
     ]
    },
    {
     "name": "stdout",
     "output_type": "stream",
     "text": [
      "In order to reveal the influences of metal-incorporation and regeneration of ZSM-5 zeolites on naphtha catalytic cracking, the fresh and regenerated Sr, Zr and La-loaded ZSM-5 zeolites have been prepared and evaluated using n-pentane catalytic cracking as a model reaction.\n",
      "ZSM-5 zeolites Catalyst\n",
      "naphtha Reactant\n",
      "catalytic cracking Reaction\n",
      "Sr, Zr and La-loaded ZSM-5 zeolites Catalyst\n",
      "n-pentane Reactant\n",
      "catalytic cracking Reaction\n",
      "\n",
      "\n",
      "\n",
      "It was found that the metal-incorporated ZSM-5 zeolites promoted hydride transfer reactions, and the Zr-incorporation helped to promote and maintain the catalytic activity while reduced alkenes selectivity; the regenerated ZSM-5 zeolites promoted C-H bond breaking that increased alkenes selectivity and n-pentane conversion but accelerated catalyst deactivation.\n",
      "metal-incorporated ZSM-5 zeolites Catalyst\n",
      "hydride transfer reactions Reaction\n",
      "alkenes Product\n",
      "ZSM-5 zeolites Catalyst\n",
      "alkenes Product\n",
      "n-pentane Reactant\n",
      "\n",
      "\n",
      "\n",
      "The regenerated metal-incorporated ZSM-5 zeolites combined the feature roles of metal-incorporation and regeneration in modulating reaction pathways, and seemed a promising way to balance the activity, stability and alkenes selectivity, facilitating the optimal production for light olefins.\n",
      "metal-incorporated ZSM-5 zeolites Catalyst\n",
      "alkenes Product\n",
      "light olefins Product\n",
      "\n",
      "\n",
      "\n",
      "Within the research scope, the regenerated Zr-loaded ZSM-5 zeolites reached an optimal production (0.97 g) for light olefins in n-pentane catalytic cracking at 550 °C with a weight hourly space velocity of 3.7 h-1 in 3 h, which was 24% higher than that of the parent HZSM-5 (0.78 g).\n",
      "Zr-loaded ZSM-5 zeolites Catalyst\n",
      "light olefins Product\n",
      "n-pentane Reactant\n",
      "catalytic cracking Reaction\n",
      "HZSM-5 Catalyst\n",
      "\n",
      "\n",
      "\n"
     ]
    },
    {
     "name": "stderr",
     "output_type": "stream",
     "text": [
      "\n"
     ]
    }
   ],
   "source": [
    "import json\n",
    "import logging\n",
    "import pandas as pd\n",
    "import pytorch_lightning as pl\n",
    "from copy import deepcopy\n",
    "from model import *\n",
    "from utils import *\n",
    "\n",
    "#use the checkpoint trained on first fold\n",
    "ckpt_name = 'checkpoint/CV_0.ckpt'\n",
    "bert_name = 'pretrained/scibert_domain_adaption'\n",
    "model = BERTSpan.load_from_checkpoint(ckpt_name, model_name=bert_name, train_dataset=[], val_dataset=[], test_dataset=[])\n",
    "\n",
    "def pred_model_dataset(model, sent):\n",
    "    output_tensor_buf = []\n",
    "    pred_dataset, pred_dataloader = model.gen_pred_dataloader(sent)\n",
    "    \n",
    "    model.setup('test')\n",
    "    model = model.cuda()\n",
    "    model.eval()\n",
    "    with torch.no_grad():\n",
    "        offset = 0\n",
    "        for batch in tqdm(pred_dataloader):\n",
    "            batch = model.batch_cuda(batch)\n",
    "            model.pred_dataset_step(offset, batch, pred_dataset)\n",
    "            offset += len(batch[0])\n",
    "    return pred_dataset.output_pred()\n",
    "\n",
    "\n",
    "output_sents = pred_model_dataset(model, test_sents)\n",
    "for sent in output_sents:\n",
    "    sent_tag = [t['pred'] for t in sent]\n",
    "    print(assemble_token_text(sent))\n",
    "    for i,j,l in get_bio_spans(sent_tag):\n",
    "        print(assemble_token_text(sent[i:j+1]), l)\n",
    "    print('\\n\\n')"
   ]
  },
  {
   "cell_type": "code",
   "execution_count": null,
   "id": "52d26cfc",
   "metadata": {},
   "outputs": [],
   "source": []
  }
 ],
 "metadata": {
  "kernelspec": {
   "display_name": "Python 3",
   "language": "python",
   "name": "python3"
  },
  "language_info": {
   "codemirror_mode": {
    "name": "ipython",
    "version": 3
   },
   "file_extension": ".py",
   "mimetype": "text/x-python",
   "name": "python",
   "nbconvert_exporter": "python",
   "pygments_lexer": "ipython3",
   "version": "3.8.5"
  }
 },
 "nbformat": 4,
 "nbformat_minor": 5
}
